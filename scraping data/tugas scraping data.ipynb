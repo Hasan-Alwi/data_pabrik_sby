{
  "cells": [
    {
      "cell_type": "code",
      "execution_count": 1,
      "id": "d51b921a",
      "metadata": {
        "colab": {
          "base_uri": "https://localhost:8080/"
        },
        "id": "d51b921a",
        "outputId": "847e8544-556d-401f-805f-98aed806b719"
      },
      "outputs": [
        {
          "output_type": "stream",
          "name": "stdout",
          "text": [
            "Looking in indexes: https://pypi.org/simple, https://us-python.pkg.dev/colab-wheels/public/simple/\n",
            "Collecting bs4\n",
            "  Downloading bs4-0.0.1.tar.gz (1.1 kB)\n",
            "  Preparing metadata (setup.py) ... \u001b[?25l\u001b[?25hdone\n",
            "Requirement already satisfied: beautifulsoup4 in /usr/local/lib/python3.10/dist-packages (from bs4) (4.11.2)\n",
            "Requirement already satisfied: soupsieve>1.2 in /usr/local/lib/python3.10/dist-packages (from beautifulsoup4->bs4) (2.4.1)\n",
            "Building wheels for collected packages: bs4\n",
            "  Building wheel for bs4 (setup.py) ... \u001b[?25l\u001b[?25hdone\n",
            "  Created wheel for bs4: filename=bs4-0.0.1-py3-none-any.whl size=1257 sha256=207ea01e14157c0f0b61ef1d7676750b91435e5c96c04bd88e8de1d6eabf5ed5\n",
            "  Stored in directory: /root/.cache/pip/wheels/25/42/45/b773edc52acb16cd2db4cf1a0b47117e2f69bb4eb300ed0e70\n",
            "Successfully built bs4\n",
            "Installing collected packages: bs4\n",
            "Successfully installed bs4-0.0.1\n"
          ]
        }
      ],
      "source": [
        "!pip install bs4"
      ]
    },
    {
      "cell_type": "code",
      "execution_count": 2,
      "id": "60c98b42",
      "metadata": {
        "id": "60c98b42"
      },
      "outputs": [],
      "source": [
        "from bs4 import BeautifulSoup\n",
        "import requests\n",
        "import pandas as pd"
      ]
    },
    {
      "cell_type": "code",
      "execution_count": 8,
      "id": "d0a14ff7",
      "metadata": {
        "id": "d0a14ff7"
      },
      "outputs": [],
      "source": [
        "page = requests.get('https://klikalamat.com/daftar-lengkap-pabrik-surabaya/')"
      ]
    },
    {
      "cell_type": "code",
      "execution_count": 9,
      "id": "a5b3e5cd",
      "metadata": {
        "id": "a5b3e5cd"
      },
      "outputs": [],
      "source": [
        "soup = BeautifulSoup(page.content ,'html.parser')"
      ]
    },
    {
      "cell_type": "code",
      "execution_count": 13,
      "id": "bc5b262b",
      "metadata": {
        "colab": {
          "base_uri": "https://localhost:8080/",
          "height": 35
        },
        "id": "bc5b262b",
        "outputId": "f36b53ed-1214-4507-caea-f3bf6c6f2cab"
      },
      "outputs": [
        {
          "output_type": "execute_result",
          "data": {
            "text/plain": [
              "'PT.Nar Stainless Steel Center'"
            ],
            "application/vnd.google.colaboratory.intrinsic+json": {
              "type": "string"
            }
          },
          "metadata": {},
          "execution_count": 13
        }
      ],
      "source": [
        "soup.find('h2', class_='entry-title').text"
      ]
    },
    {
      "cell_type": "code",
      "execution_count": 14,
      "id": "243a4c85",
      "metadata": {
        "colab": {
          "base_uri": "https://localhost:8080/",
          "height": 35
        },
        "id": "243a4c85",
        "outputId": "e8cd82b3-7ce5-40e2-cacd-75f563dc1730"
      },
      "outputs": [
        {
          "output_type": "execute_result",
          "data": {
            "text/plain": [
              "'(031) 5317214/15 , 5317394'"
            ],
            "application/vnd.google.colaboratory.intrinsic+json": {
              "type": "string"
            }
          },
          "metadata": {},
          "execution_count": 14
        }
      ],
      "source": [
        "soup.find('p', class_='phone').text"
      ]
    },
    {
      "cell_type": "code",
      "source": [
        "soup.find('p', class_='address').text"
      ],
      "metadata": {
        "colab": {
          "base_uri": "https://localhost:8080/",
          "height": 35
        },
        "id": "_93AC6cWpZD3",
        "outputId": "cf92ad0c-c4c4-4382-c5e3-83b5542c1f6b"
      },
      "id": "_93AC6cWpZD3",
      "execution_count": 15,
      "outputs": [
        {
          "output_type": "execute_result",
          "data": {
            "text/plain": [
              "'Jalan Demak Timur No. 7 Surabaya 60172'"
            ],
            "application/vnd.google.colaboratory.intrinsic+json": {
              "type": "string"
            }
          },
          "metadata": {},
          "execution_count": 15
        }
      ]
    },
    {
      "cell_type": "code",
      "execution_count": 16,
      "id": "c2049795",
      "metadata": {
        "id": "c2049795"
      },
      "outputs": [],
      "source": [
        "pabrik_nama = soup.find_all('h2', class_='entry-title')                                                       "
      ]
    },
    {
      "cell_type": "code",
      "source": [
        "pabrik_notelp = soup.find_all('p', class_='phone')    "
      ],
      "metadata": {
        "id": "Wos0t6LZp14p"
      },
      "id": "Wos0t6LZp14p",
      "execution_count": 17,
      "outputs": []
    },
    {
      "cell_type": "code",
      "source": [
        "pabrik_alamat = soup.find_all('p', class_='address')    "
      ],
      "metadata": {
        "id": "C-gXCj6Cp9Q_"
      },
      "id": "C-gXCj6Cp9Q_",
      "execution_count": 18,
      "outputs": []
    },
    {
      "cell_type": "code",
      "execution_count": 19,
      "id": "b63da67d",
      "metadata": {
        "colab": {
          "base_uri": "https://localhost:8080/"
        },
        "id": "b63da67d",
        "outputId": "755b0da0-5bdc-48c2-ebf0-aa8a76c76212"
      },
      "outputs": [
        {
          "output_type": "stream",
          "name": "stdout",
          "text": [
            "PT.Nar Stainless Steel Center\n",
            "PT.SEYLIM JAYA\n",
            "PT Arisu Graphic Prima\n",
            "PT Fuboru Indonesia\n",
            "PT Indowire Prima Industrindo\n",
            "PT Ionuda\n",
            "CV. Tekad Jaya\n",
            "Dutacipta Pakarperkasa. PT\n",
            "PT. Tanjungsari Prima Sentosa (RIMASA)\n",
            "PT. INDO DUCTING PRIMATAMA\n",
            "PT. Triputra Sanjaya\n",
            "PT. ABBERGUMMI MEDICAL\n"
          ]
        }
      ],
      "source": [
        "for each_pabrik_nama in pabrik_nama :\n",
        "    print (each_pabrik_nama.text)"
      ]
    },
    {
      "cell_type": "code",
      "source": [
        "for each_pabrik_notelp in pabrik_notelp :\n",
        "    print (each_pabrik_notelp.text)"
      ],
      "metadata": {
        "colab": {
          "base_uri": "https://localhost:8080/"
        },
        "id": "o4hf5JZIqcMr",
        "outputId": "dc0628a1-4157-452c-ba43-02b38e1b93c7"
      },
      "id": "o4hf5JZIqcMr",
      "execution_count": 20,
      "outputs": [
        {
          "output_type": "stream",
          "name": "stdout",
          "text": [
            "(031) 5317214/15 , 5317394\n",
            "(031) 7341428\n",
            "(031) 8475868\n",
            "31) - 897 0603\n",
            "(031) - 749 1694/5\n",
            "(021) - 891 0488\n",
            "0822-4590-5090\n",
            "+6231-766-0492, 767-0163\n",
            "+62 (31) 749 2250, 749 0767\n",
            "0227780014, 7790235 / 6\n",
            "0318703000\n",
            "91 31 853 0229 / 0677 / 321 61 8281 / 82\n"
          ]
        }
      ]
    },
    {
      "cell_type": "code",
      "source": [
        "for each_pabrik_alamat in pabrik_alamat :\n",
        "    print (each_pabrik_alamat.text)"
      ],
      "metadata": {
        "colab": {
          "base_uri": "https://localhost:8080/"
        },
        "id": "qrdPzz8jqimu",
        "outputId": "858f256a-670d-41db-a893-08483e15e403"
      },
      "id": "qrdPzz8jqimu",
      "execution_count": 21,
      "outputs": [
        {
          "output_type": "stream",
          "name": "stdout",
          "text": [
            "Jalan Demak Timur No. 7 Surabaya 60172\n",
            "Jl. Taman Graha Family Selatan III, No.A-40, Surabaya\n",
            "Jl. Rungkut Industri VIII No.18, Kutisari, Tenggilis Mejoyo, Kota SBY, Jawa Timur 60293\n",
            "Jl. Raya Trosobo Komp. Industri Kav.5 (Trosobo), Sidoarjo 61250\n",
            "Jl. Margomulyo Indah C-1, Buntaran Tandes - Surabaya 60184\n",
            "Jl. K.H. Mukmin Gedangan, Sidoarjo 61254\n",
            " Jl. Kedung Doro No.92F, Sawahan\n",
            "Jl. Mastrip IX/ KM 07, Waru Gunung, Karang Pilang, Surabaya 60221, East Java – Indonesia\n",
            "Jalan Dumar Industri Blok F No. 1 Surabaya\n",
            "PT. Indo Ducting Primatama - Headquarter, Jalan Rancaekek, Linggar, Bandung, West Java, Indonesia\n",
            "Jl. Raya Kalirungkut No. 5 Blok E-3  Surabaya - 60293  Indonesia\n",
            "Komplek Delta Sari Indah Blok AA/4, Waru Sidoarjo. 61256 Surabaya\n"
          ]
        }
      ]
    },
    {
      "cell_type": "code",
      "execution_count": 22,
      "id": "253f9920",
      "metadata": {
        "id": "253f9920"
      },
      "outputs": [],
      "source": [
        "data_nama = []\n",
        "for each_pabrik_nama in pabrik_nama:\n",
        "    data_nama.append(each_pabrik_nama.text)"
      ]
    },
    {
      "cell_type": "code",
      "execution_count": 23,
      "id": "6b3a0ca0",
      "metadata": {
        "colab": {
          "base_uri": "https://localhost:8080/"
        },
        "id": "6b3a0ca0",
        "outputId": "ad6fb287-4738-4c98-be5c-23226266ed75"
      },
      "outputs": [
        {
          "output_type": "execute_result",
          "data": {
            "text/plain": [
              "['PT.Nar Stainless Steel Center',\n",
              " 'PT.SEYLIM JAYA',\n",
              " 'PT Arisu Graphic Prima',\n",
              " 'PT Fuboru Indonesia',\n",
              " 'PT Indowire Prima Industrindo',\n",
              " 'PT Ionuda',\n",
              " 'CV. Tekad Jaya',\n",
              " 'Dutacipta Pakarperkasa. PT',\n",
              " 'PT. Tanjungsari Prima Sentosa (RIMASA)',\n",
              " 'PT. INDO DUCTING PRIMATAMA',\n",
              " 'PT. Triputra Sanjaya',\n",
              " 'PT. ABBERGUMMI MEDICAL']"
            ]
          },
          "metadata": {},
          "execution_count": 23
        }
      ],
      "source": [
        "data_nama"
      ]
    },
    {
      "cell_type": "code",
      "source": [
        "data_notelp = []\n",
        "for each_pabrik_notelp in pabrik_notelp:\n",
        "    data_notelp.append(each_pabrik_notelp.text)"
      ],
      "metadata": {
        "id": "pybhiiwYrANM"
      },
      "id": "pybhiiwYrANM",
      "execution_count": 24,
      "outputs": []
    },
    {
      "cell_type": "code",
      "source": [
        "data_notelp"
      ],
      "metadata": {
        "colab": {
          "base_uri": "https://localhost:8080/"
        },
        "id": "s22peN-arJWi",
        "outputId": "f6511205-89ee-4682-9cb3-e1d5427cfa37"
      },
      "id": "s22peN-arJWi",
      "execution_count": 25,
      "outputs": [
        {
          "output_type": "execute_result",
          "data": {
            "text/plain": [
              "['(031) 5317214/15 , 5317394',\n",
              " '(031) 7341428',\n",
              " '(031) 8475868',\n",
              " '31) - 897 0603',\n",
              " '(031) - 749 1694/5',\n",
              " '(021) - 891 0488',\n",
              " '0822-4590-5090',\n",
              " '+6231-766-0492, 767-0163',\n",
              " '+62 (31) 749 2250, 749 0767',\n",
              " '0227780014, 7790235 / 6',\n",
              " '0318703000',\n",
              " '91 31 853 0229 / 0677 / 321 61 8281 / 82']"
            ]
          },
          "metadata": {},
          "execution_count": 25
        }
      ]
    },
    {
      "cell_type": "code",
      "source": [
        "data_alamat = []\n",
        "for each_pabrik_alamat in pabrik_alamat:\n",
        "    data_alamat.append(each_pabrik_alamat.text)"
      ],
      "metadata": {
        "id": "vFS4YewWrNVV"
      },
      "id": "vFS4YewWrNVV",
      "execution_count": 26,
      "outputs": []
    },
    {
      "cell_type": "code",
      "source": [
        "data_alamat"
      ],
      "metadata": {
        "colab": {
          "base_uri": "https://localhost:8080/"
        },
        "id": "CBPoQwFVrWew",
        "outputId": "e3f2b05e-231d-405d-9414-1b3c061ff8ff"
      },
      "id": "CBPoQwFVrWew",
      "execution_count": 27,
      "outputs": [
        {
          "output_type": "execute_result",
          "data": {
            "text/plain": [
              "['Jalan Demak Timur No. 7 Surabaya 60172',\n",
              " 'Jl. Taman Graha Family Selatan III, No.A-40, Surabaya',\n",
              " 'Jl. Rungkut Industri VIII No.18, Kutisari, Tenggilis Mejoyo, Kota SBY, Jawa Timur 60293',\n",
              " 'Jl. Raya Trosobo Komp. Industri Kav.5 (Trosobo), Sidoarjo 61250',\n",
              " 'Jl. Margomulyo Indah C-1, Buntaran Tandes - Surabaya 60184',\n",
              " 'Jl. K.H. Mukmin Gedangan, Sidoarjo 61254',\n",
              " ' Jl. Kedung Doro No.92F, Sawahan',\n",
              " 'Jl. Mastrip IX/ KM 07, Waru Gunung, Karang Pilang, Surabaya 60221, East Java – Indonesia',\n",
              " 'Jalan Dumar Industri Blok F No. 1 Surabaya',\n",
              " 'PT. Indo Ducting Primatama - Headquarter, Jalan Rancaekek, Linggar, Bandung, West Java, Indonesia',\n",
              " 'Jl. Raya Kalirungkut No. 5 Blok E-3  Surabaya - 60293  Indonesia',\n",
              " 'Komplek Delta Sari Indah Blok AA/4, Waru Sidoarjo. 61256 Surabaya']"
            ]
          },
          "metadata": {},
          "execution_count": 27
        }
      ]
    },
    {
      "cell_type": "code",
      "execution_count": 30,
      "id": "9b1c495d",
      "metadata": {
        "id": "9b1c495d"
      },
      "outputs": [],
      "source": [
        "data = {\n",
        "    'nama pabrik': data_nama,\n",
        "    'no. telp': data_notelp,\n",
        "    'alamat pabrik': data_alamat\n",
        "}"
      ]
    },
    {
      "cell_type": "code",
      "execution_count": 31,
      "id": "a51ccd05",
      "metadata": {
        "colab": {
          "base_uri": "https://localhost:8080/",
          "height": 426
        },
        "id": "a51ccd05",
        "outputId": "32f9955d-3866-4fab-8b6f-b24232e2727b"
      },
      "outputs": [
        {
          "output_type": "execute_result",
          "data": {
            "text/plain": [
              "                               nama pabrik  \\\n",
              "0            PT.Nar Stainless Steel Center   \n",
              "1                           PT.SEYLIM JAYA   \n",
              "2                   PT Arisu Graphic Prima   \n",
              "3                      PT Fuboru Indonesia   \n",
              "4            PT Indowire Prima Industrindo   \n",
              "5                                PT Ionuda   \n",
              "6                           CV. Tekad Jaya   \n",
              "7               Dutacipta Pakarperkasa. PT   \n",
              "8   PT. Tanjungsari Prima Sentosa (RIMASA)   \n",
              "9               PT. INDO DUCTING PRIMATAMA   \n",
              "10                    PT. Triputra Sanjaya   \n",
              "11                  PT. ABBERGUMMI MEDICAL   \n",
              "\n",
              "                                    no. telp  \\\n",
              "0                 (031) 5317214/15 , 5317394   \n",
              "1                              (031) 7341428   \n",
              "2                              (031) 8475868   \n",
              "3                             31) - 897 0603   \n",
              "4                         (031) - 749 1694/5   \n",
              "5                           (021) - 891 0488   \n",
              "6                             0822-4590-5090   \n",
              "7                   +6231-766-0492, 767-0163   \n",
              "8                +62 (31) 749 2250, 749 0767   \n",
              "9                    0227780014, 7790235 / 6   \n",
              "10                                0318703000   \n",
              "11  91 31 853 0229 / 0677 / 321 61 8281 / 82   \n",
              "\n",
              "                                        alamat pabrik  \n",
              "0              Jalan Demak Timur No. 7 Surabaya 60172  \n",
              "1   Jl. Taman Graha Family Selatan III, No.A-40, S...  \n",
              "2   Jl. Rungkut Industri VIII No.18, Kutisari, Ten...  \n",
              "3   Jl. Raya Trosobo Komp. Industri Kav.5 (Trosobo...  \n",
              "4   Jl. Margomulyo Indah C-1, Buntaran Tandes - Su...  \n",
              "5            Jl. K.H. Mukmin Gedangan, Sidoarjo 61254  \n",
              "6                     Jl. Kedung Doro No.92F, Sawahan  \n",
              "7   Jl. Mastrip IX/ KM 07, Waru Gunung, Karang Pil...  \n",
              "8          Jalan Dumar Industri Blok F No. 1 Surabaya  \n",
              "9   PT. Indo Ducting Primatama - Headquarter, Jala...  \n",
              "10  Jl. Raya Kalirungkut No. 5 Blok E-3  Surabaya ...  \n",
              "11  Komplek Delta Sari Indah Blok AA/4, Waru Sidoa...  "
            ],
            "text/html": [
              "\n",
              "  <div id=\"df-ed8e3f3c-1e1b-4609-9668-669501a883e4\">\n",
              "    <div class=\"colab-df-container\">\n",
              "      <div>\n",
              "<style scoped>\n",
              "    .dataframe tbody tr th:only-of-type {\n",
              "        vertical-align: middle;\n",
              "    }\n",
              "\n",
              "    .dataframe tbody tr th {\n",
              "        vertical-align: top;\n",
              "    }\n",
              "\n",
              "    .dataframe thead th {\n",
              "        text-align: right;\n",
              "    }\n",
              "</style>\n",
              "<table border=\"1\" class=\"dataframe\">\n",
              "  <thead>\n",
              "    <tr style=\"text-align: right;\">\n",
              "      <th></th>\n",
              "      <th>nama pabrik</th>\n",
              "      <th>no. telp</th>\n",
              "      <th>alamat pabrik</th>\n",
              "    </tr>\n",
              "  </thead>\n",
              "  <tbody>\n",
              "    <tr>\n",
              "      <th>0</th>\n",
              "      <td>PT.Nar Stainless Steel Center</td>\n",
              "      <td>(031) 5317214/15 , 5317394</td>\n",
              "      <td>Jalan Demak Timur No. 7 Surabaya 60172</td>\n",
              "    </tr>\n",
              "    <tr>\n",
              "      <th>1</th>\n",
              "      <td>PT.SEYLIM JAYA</td>\n",
              "      <td>(031) 7341428</td>\n",
              "      <td>Jl. Taman Graha Family Selatan III, No.A-40, S...</td>\n",
              "    </tr>\n",
              "    <tr>\n",
              "      <th>2</th>\n",
              "      <td>PT Arisu Graphic Prima</td>\n",
              "      <td>(031) 8475868</td>\n",
              "      <td>Jl. Rungkut Industri VIII No.18, Kutisari, Ten...</td>\n",
              "    </tr>\n",
              "    <tr>\n",
              "      <th>3</th>\n",
              "      <td>PT Fuboru Indonesia</td>\n",
              "      <td>31) - 897 0603</td>\n",
              "      <td>Jl. Raya Trosobo Komp. Industri Kav.5 (Trosobo...</td>\n",
              "    </tr>\n",
              "    <tr>\n",
              "      <th>4</th>\n",
              "      <td>PT Indowire Prima Industrindo</td>\n",
              "      <td>(031) - 749 1694/5</td>\n",
              "      <td>Jl. Margomulyo Indah C-1, Buntaran Tandes - Su...</td>\n",
              "    </tr>\n",
              "    <tr>\n",
              "      <th>5</th>\n",
              "      <td>PT Ionuda</td>\n",
              "      <td>(021) - 891 0488</td>\n",
              "      <td>Jl. K.H. Mukmin Gedangan, Sidoarjo 61254</td>\n",
              "    </tr>\n",
              "    <tr>\n",
              "      <th>6</th>\n",
              "      <td>CV. Tekad Jaya</td>\n",
              "      <td>0822-4590-5090</td>\n",
              "      <td>Jl. Kedung Doro No.92F, Sawahan</td>\n",
              "    </tr>\n",
              "    <tr>\n",
              "      <th>7</th>\n",
              "      <td>Dutacipta Pakarperkasa. PT</td>\n",
              "      <td>+6231-766-0492, 767-0163</td>\n",
              "      <td>Jl. Mastrip IX/ KM 07, Waru Gunung, Karang Pil...</td>\n",
              "    </tr>\n",
              "    <tr>\n",
              "      <th>8</th>\n",
              "      <td>PT. Tanjungsari Prima Sentosa (RIMASA)</td>\n",
              "      <td>+62 (31) 749 2250, 749 0767</td>\n",
              "      <td>Jalan Dumar Industri Blok F No. 1 Surabaya</td>\n",
              "    </tr>\n",
              "    <tr>\n",
              "      <th>9</th>\n",
              "      <td>PT. INDO DUCTING PRIMATAMA</td>\n",
              "      <td>0227780014, 7790235 / 6</td>\n",
              "      <td>PT. Indo Ducting Primatama - Headquarter, Jala...</td>\n",
              "    </tr>\n",
              "    <tr>\n",
              "      <th>10</th>\n",
              "      <td>PT. Triputra Sanjaya</td>\n",
              "      <td>0318703000</td>\n",
              "      <td>Jl. Raya Kalirungkut No. 5 Blok E-3  Surabaya ...</td>\n",
              "    </tr>\n",
              "    <tr>\n",
              "      <th>11</th>\n",
              "      <td>PT. ABBERGUMMI MEDICAL</td>\n",
              "      <td>91 31 853 0229 / 0677 / 321 61 8281 / 82</td>\n",
              "      <td>Komplek Delta Sari Indah Blok AA/4, Waru Sidoa...</td>\n",
              "    </tr>\n",
              "  </tbody>\n",
              "</table>\n",
              "</div>\n",
              "      <button class=\"colab-df-convert\" onclick=\"convertToInteractive('df-ed8e3f3c-1e1b-4609-9668-669501a883e4')\"\n",
              "              title=\"Convert this dataframe to an interactive table.\"\n",
              "              style=\"display:none;\">\n",
              "        \n",
              "  <svg xmlns=\"http://www.w3.org/2000/svg\" height=\"24px\"viewBox=\"0 0 24 24\"\n",
              "       width=\"24px\">\n",
              "    <path d=\"M0 0h24v24H0V0z\" fill=\"none\"/>\n",
              "    <path d=\"M18.56 5.44l.94 2.06.94-2.06 2.06-.94-2.06-.94-.94-2.06-.94 2.06-2.06.94zm-11 1L8.5 8.5l.94-2.06 2.06-.94-2.06-.94L8.5 2.5l-.94 2.06-2.06.94zm10 10l.94 2.06.94-2.06 2.06-.94-2.06-.94-.94-2.06-.94 2.06-2.06.94z\"/><path d=\"M17.41 7.96l-1.37-1.37c-.4-.4-.92-.59-1.43-.59-.52 0-1.04.2-1.43.59L10.3 9.45l-7.72 7.72c-.78.78-.78 2.05 0 2.83L4 21.41c.39.39.9.59 1.41.59.51 0 1.02-.2 1.41-.59l7.78-7.78 2.81-2.81c.8-.78.8-2.07 0-2.86zM5.41 20L4 18.59l7.72-7.72 1.47 1.35L5.41 20z\"/>\n",
              "  </svg>\n",
              "      </button>\n",
              "      \n",
              "  <style>\n",
              "    .colab-df-container {\n",
              "      display:flex;\n",
              "      flex-wrap:wrap;\n",
              "      gap: 12px;\n",
              "    }\n",
              "\n",
              "    .colab-df-convert {\n",
              "      background-color: #E8F0FE;\n",
              "      border: none;\n",
              "      border-radius: 50%;\n",
              "      cursor: pointer;\n",
              "      display: none;\n",
              "      fill: #1967D2;\n",
              "      height: 32px;\n",
              "      padding: 0 0 0 0;\n",
              "      width: 32px;\n",
              "    }\n",
              "\n",
              "    .colab-df-convert:hover {\n",
              "      background-color: #E2EBFA;\n",
              "      box-shadow: 0px 1px 2px rgba(60, 64, 67, 0.3), 0px 1px 3px 1px rgba(60, 64, 67, 0.15);\n",
              "      fill: #174EA6;\n",
              "    }\n",
              "\n",
              "    [theme=dark] .colab-df-convert {\n",
              "      background-color: #3B4455;\n",
              "      fill: #D2E3FC;\n",
              "    }\n",
              "\n",
              "    [theme=dark] .colab-df-convert:hover {\n",
              "      background-color: #434B5C;\n",
              "      box-shadow: 0px 1px 3px 1px rgba(0, 0, 0, 0.15);\n",
              "      filter: drop-shadow(0px 1px 2px rgba(0, 0, 0, 0.3));\n",
              "      fill: #FFFFFF;\n",
              "    }\n",
              "  </style>\n",
              "\n",
              "      <script>\n",
              "        const buttonEl =\n",
              "          document.querySelector('#df-ed8e3f3c-1e1b-4609-9668-669501a883e4 button.colab-df-convert');\n",
              "        buttonEl.style.display =\n",
              "          google.colab.kernel.accessAllowed ? 'block' : 'none';\n",
              "\n",
              "        async function convertToInteractive(key) {\n",
              "          const element = document.querySelector('#df-ed8e3f3c-1e1b-4609-9668-669501a883e4');\n",
              "          const dataTable =\n",
              "            await google.colab.kernel.invokeFunction('convertToInteractive',\n",
              "                                                     [key], {});\n",
              "          if (!dataTable) return;\n",
              "\n",
              "          const docLinkHtml = 'Like what you see? Visit the ' +\n",
              "            '<a target=\"_blank\" href=https://colab.research.google.com/notebooks/data_table.ipynb>data table notebook</a>'\n",
              "            + ' to learn more about interactive tables.';\n",
              "          element.innerHTML = '';\n",
              "          dataTable['output_type'] = 'display_data';\n",
              "          await google.colab.output.renderOutput(dataTable, element);\n",
              "          const docLink = document.createElement('div');\n",
              "          docLink.innerHTML = docLinkHtml;\n",
              "          element.appendChild(docLink);\n",
              "        }\n",
              "      </script>\n",
              "    </div>\n",
              "  </div>\n",
              "  "
            ]
          },
          "metadata": {},
          "execution_count": 31
        }
      ],
      "source": [
        "pd.DataFrame(data)"
      ]
    }
  ],
  "metadata": {
    "kernelspec": {
      "display_name": "Python 3 (ipykernel)",
      "language": "python",
      "name": "python3"
    },
    "language_info": {
      "codemirror_mode": {
        "name": "ipython",
        "version": 3
      },
      "file_extension": ".py",
      "mimetype": "text/x-python",
      "name": "python",
      "nbconvert_exporter": "python",
      "pygments_lexer": "ipython3",
      "version": "3.9.12"
    },
    "colab": {
      "provenance": []
    }
  },
  "nbformat": 4,
  "nbformat_minor": 5
}